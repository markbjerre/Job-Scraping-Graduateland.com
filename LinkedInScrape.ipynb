{
 "cells": [
  {
   "cell_type": "code",
   "execution_count": 5,
   "metadata": {},
   "outputs": [
    {
     "data": {
      "text/plain": [
       "''"
      ]
     },
     "execution_count": 5,
     "metadata": {},
     "output_type": "execute_result"
    }
   ],
   "source": [
    "#########################\n",
    "## Mark Bjerregaard     #\n",
    "## MARKBJ@UMICH.EDU     #\n",
    "#########################\n",
    "'''\n",
    "Linkedin job scrape script\n",
    "Scrapes jobs using selenium and chromedriver available here: https://chromedriver.chromium.org/\n",
    "\n",
    "Steps:\n",
    "1. Enter Linkedin log-in page\n",
    "2. Spot the cookies pop-up and accept cookies\n",
    "3. Fill E-Mail Adress and Password areas and click login\n",
    "4. Click on the jobs from the section above\n",
    "5. Search for job positions Data Analyst \n",
    "6. Scroll till end of page, collecting links on the way\n",
    "7. Go to the next page when it is the end of the page while keep collecting links\n",
    "8. After all links are collected, go to each link\n",
    "9. Click the see more button to expand the job description text\n",
    "10. Scrape the desired data\n",
    "\n",
    "\n",
    "Items to be scraped \n",
    "1. Job title \n",
    "2. Company name\n",
    "3. Company location\n",
    "4. job description\n",
    "5. work method (hybrid, remote, on-site)\n",
    "6. Post date\n",
    "'''\n",
    "''"
   ]
  },
  {
   "cell_type": "markdown",
   "metadata": {},
   "source": []
  },
  {
   "cell_type": "code",
   "execution_count": 10,
   "metadata": {},
   "outputs": [
    {
     "name": "stdout",
     "output_type": "stream",
     "text": [
      "scraping job links, page: 1\n",
      "i = 1 XPATH = //*[@id=\"timeline\"]/div[3]/div/a[2] Index: 2\n",
      "scraping job links, page: 2\n",
      "i = 2 XPATH = //*[@id=\"timeline\"]/div[3]/div/a[4] Index: 4\n",
      "scraping job links, page: 3\n",
      "i = 3 XPATH = //*[@id=\"timeline\"]/div[3]/div/a[5] Index: 5\n",
      "scraping job links, page: 4\n",
      "i = 4 XPATH = //*[@id=\"timeline\"]/div[3]/div/a[6] Index: 6\n",
      "scraping job links, page: 5\n",
      "i = 5 XPATH = //*[@id=\"timeline\"]/div[3]/div/a[7] Index: 7\n",
      "scraping job links, page: 6\n",
      "i = 7 XPATH = //*[@id=\"timeline\"]/div[3]/div/a[7] Index: 7\n",
      "scraping job links, page: 7\n",
      "i = 7 XPATH = //*[@id=\"timeline\"]/div[3]/div/a[7] Index: 7\n",
      "scraping job links, page: 8\n",
      "i = 7 XPATH = //*[@id=\"timeline\"]/div[3]/div/a[7] Index: 7\n",
      "scraping job links, page: 9\n",
      "i = 7 XPATH = //*[@id=\"timeline\"]/div[3]/div/a[7] Index: 7\n",
      "scraping job links, page: 10\n"
     ]
    }
   ],
   "source": [
    "import time\n",
    "import selenium\n",
    "from selenium import webdriver\n",
    "from selenium.webdriver.chrome.options import Options\n",
    "from selenium.webdriver.chrome.service import Service\n",
    "from selenium.webdriver.common.by import By\n",
    "from selenium.webdriver.support.ui import WebDriverWait\n",
    "from selenium.webdriver.support import expected_conditions as EC\n",
    "from selenium.webdriver.common.keys import Keys\n",
    "\n",
    "#Driver's path\n",
    "options = Options()\n",
    "options.add_argument('start-maximized')\n",
    "driver = webdriver.Chrome(service =Service('chromedriver.exe'), options=options)\n",
    "driver.implicitly_wait(10)\n",
    "\n",
    "# Open linkedin page\n",
    "driver.get('https://graduateland.com/jobs')\n",
    "time.sleep(2)\n",
    "\n",
    "#Entering Copenhagen area in search filter\n",
    "search_area = 'Copenhagen Metropolitan Area'\n",
    "search_position = 'Data Analyst'\n",
    "# Filtering on area\n",
    "driver.find_element(By.XPATH, '//*[@id=\"search-filters\"]/div[46]/div/div[1]/input').send_keys(search_area)\n",
    "driver.find_element(By.XPATH, '//*[@id=\"search-filters\"]/div[46]/div/div[1]/input').click()\n",
    "driver.find_element(By.XPATH, '//*[@id=\"search-filters\"]/div[46]/div/div[2]/label[2]').click()\n",
    "\n",
    "# Entering position keywords\n",
    "driver.find_element(By.XPATH, '//*[@id=\"job-search-form\"]/div[1]/div[1]/div[1]/input').send_keys(search_position, Keys.ENTER)\n",
    "time.sleep(3)\n",
    "\n",
    "\n",
    "def job_scrape(driver):\n",
    "    '''\n",
    "    Function for scraping page of job links\n",
    "    Input: chromedriver (current webpage)\n",
    "    output: list of job site links\n",
    "    ''' \n",
    "    site_links = []\n",
    "    jobs_list = driver.find_elements(By.CLASS_NAME, 'job-box')\n",
    "    for job in jobs_list:\n",
    "        link = job.get_attribute('href')\n",
    "        if link not in site_links:\n",
    "            site_links.append(job.get_attribute('href'))\n",
    "    return site_links\n",
    "\n",
    "#initializing scrape loop at page 1\n",
    "page = 1 \n",
    "print('scraping job links, page:', page)\n",
    "links = job_scrape(driver)\n",
    "\n",
    "#pages we want to scrape\n",
    "iterations = 10\n",
    "\n",
    "for i in range(1, iterations):\n",
    "    if i < 3:\n",
    "        index = i * 2 \n",
    "    elif i < 6:\n",
    "        index = i + 2\n",
    "    else:\n",
    "        i = 7\n",
    "    driver.find_element(By.XPATH, '//*[@id=\"timeline\"]/div[3]/div/a[{}]'.format(index)).click()\n",
    "    page += 1\n",
    "    print('scraping job links, page:', page)\n",
    "    time.sleep(3)\n",
    "    links = links + job_scrape(driver)"
   ]
  },
  {
   "cell_type": "code",
   "execution_count": 12,
   "metadata": {},
   "outputs": [
    {
     "name": "stdout",
     "output_type": "stream",
     "text": [
      "['https://graduateland.com/en/campaigns/click/1721075', 'https://graduateland.com/en/campaigns/click/1719395', 'https://graduateland.com/en/campaigns/click/1719437', 'https://graduateland.com/en/campaigns/click/1719435', 'https://graduateland.com/en/campaigns/click/1721056', 'https://graduateland.com/en/campaigns/click/1672491', 'https://graduateland.com/en/campaigns/click/1720777', 'https://graduateland.com/en/campaigns/click/1721001', 'https://graduateland.com/en/campaigns/click/1719498', 'https://graduateland.com/en/campaigns/click/1717974', 'https://graduateland.com/en/campaigns/click/1718106', 'https://graduateland.com/en/campaigns/click/1721120', 'https://graduateland.com/en/campaigns/click/1713080', 'https://graduateland.com/en/campaigns/click/1716863', 'https://graduateland.com/en/campaigns/click/1716872', 'https://graduateland.com/en/campaigns/click/1714897', 'https://graduateland.com/en/campaigns/click/1714905', 'https://graduateland.com/en/campaigns/click/1721135', 'https://graduateland.com/en/campaigns/click/1721108', 'https://graduateland.com/en/campaigns/click/1719441', 'https://graduateland.com/en/campaigns/click/1714691', 'https://graduateland.com/en/campaigns/click/1721025', 'https://graduateland.com/en/campaigns/click/1719412', 'https://graduateland.com/en/campaigns/click/1717289', 'https://graduateland.com/en/campaigns/click/1720363', 'https://graduateland.com/en/campaigns/click/1721086', 'https://graduateland.com/en/campaigns/click/1720060', 'https://graduateland.com/en/campaigns/click/1720052', 'https://graduateland.com/en/campaigns/click/1720545', 'https://graduateland.com/en/campaigns/click/1719813', 'https://graduateland.com/en/campaigns/click/1719818', 'https://graduateland.com/en/campaigns/click/1713556', 'https://graduateland.com/en/campaigns/click/1713189', 'https://graduateland.com/en/campaigns/click/1713123', 'https://graduateland.com/en/campaigns/click/1719233', 'https://graduateland.com/en/campaigns/click/1712686', 'https://graduateland.com/en/campaigns/click/1712086', 'https://graduateland.com/en/campaigns/click/1723271', 'https://graduateland.com/en/campaigns/click/1718889', 'https://graduateland.com/en/campaigns/click/1720613', 'https://graduateland.com/en/campaigns/click/1720796', 'https://graduateland.com/en/campaigns/click/1720631', 'https://graduateland.com/en/campaigns/click/1719263', 'https://graduateland.com/en/campaigns/click/1718909', 'https://graduateland.com/en/campaigns/click/1720074', 'https://graduateland.com/en/campaigns/click/1715608', 'https://graduateland.com/en/campaigns/click/1715605', 'https://graduateland.com/en/campaigns/click/1716434', 'https://graduateland.com/en/campaigns/click/1714291', 'https://graduateland.com/en/campaigns/click/1718917', 'https://graduateland.com/en/campaigns/click/1662160', 'https://graduateland.com/en/campaigns/click/1713545', 'https://graduateland.com/en/campaigns/click/1718967', 'https://graduateland.com/en/campaigns/click/1713491', 'https://graduateland.com/en/campaigns/click/1716442', 'https://graduateland.com/en/campaigns/click/1720707', 'https://graduateland.com/en/campaigns/click/1713675', 'https://graduateland.com/en/campaigns/click/1712411', 'https://graduateland.com/en/campaigns/click/1712416', 'https://graduateland.com/en/campaigns/click/1723399', 'https://graduateland.com/en/campaigns/click/1723292', 'https://graduateland.com/en/campaigns/click/1723573', 'https://graduateland.com/en/campaigns/click/1723352', 'https://graduateland.com/en/campaigns/click/1723305', 'https://graduateland.com/en/campaigns/click/1723307', 'https://graduateland.com/en/campaigns/click/1723301', 'https://graduateland.com/en/campaigns/click/1723016', 'https://graduateland.com/en/campaigns/click/1723017', 'https://graduateland.com/en/campaigns/click/1723231', 'https://graduateland.com/en/campaigns/click/1723295', 'https://graduateland.com/en/campaigns/click/1723298', 'https://graduateland.com/en/campaigns/click/1723303', 'https://graduateland.com/en/campaigns/click/1723342', 'https://graduateland.com/en/campaigns/click/1723327', 'https://graduateland.com/en/campaigns/click/1723574', 'https://graduateland.com/en/campaigns/click/1723253', 'https://graduateland.com/en/campaigns/click/1722498', 'https://graduateland.com/en/campaigns/click/1722369', 'https://graduateland.com/en/campaigns/click/1722344', 'https://graduateland.com/en/campaigns/click/1722297', 'https://graduateland.com/en/campaigns/click/1722304', 'https://graduateland.com/en/campaigns/click/1722325', 'https://graduateland.com/en/campaigns/click/1722328', 'https://graduateland.com/en/campaigns/click/1722283', 'https://graduateland.com/en/campaigns/click/1721816', 'https://graduateland.com/en/campaigns/click/1721830', 'https://graduateland.com/en/campaigns/click/1721824', 'https://graduateland.com/en/campaigns/click/1722272', 'https://graduateland.com/en/campaigns/click/1722275', 'https://graduateland.com/en/campaigns/click/1721805', 'https://graduateland.com/en/campaigns/click/1721677', 'https://graduateland.com/en/campaigns/click/1721611', 'https://graduateland.com/en/campaigns/click/1722316', 'https://graduateland.com/en/campaigns/click/1721760', 'https://graduateland.com/en/campaigns/click/1722398', 'https://graduateland.com/en/campaigns/click/1722441', 'https://graduateland.com/en/campaigns/click/1722086', 'https://graduateland.com/en/campaigns/click/1722391', 'https://graduateland.com/en/campaigns/click/1722415', 'https://graduateland.com/en/campaigns/click/1722428']\n",
      "100\n"
     ]
    }
   ],
   "source": []
  },
  {
   "cell_type": "code",
   "execution_count": 38,
   "metadata": {},
   "outputs": [
    {
     "name": "stdout",
     "output_type": "stream",
     "text": [
      "i = 1 XPATH //*[@id=\"timeline\"]/div[3]/div/a[2] Index: 2\n",
      "scraping job links, page: 4\n",
      "i = 2 XPATH //*[@id=\"timeline\"]/div[3]/div/a[4] Index: 4\n",
      "scraping job links, page: 5\n",
      "i = 3 XPATH //*[@id=\"timeline\"]/div[3]/div/a[5] Index: 5\n",
      "scraping job links, page: 6\n",
      "i = 4 XPATH //*[@id=\"timeline\"]/div[3]/div/a[6] Index: 6\n",
      "scraping job links, page: 7\n",
      "i = 5 XPATH //*[@id=\"timeline\"]/div[3]/div/a[7] Index: 7\n",
      "scraping job links, page: 8\n",
      "i = 6 XPATH //*[@id=\"timeline\"]/div[3]/div/a[8] Index: 8\n",
      "scraping job links, page: 9\n",
      "i = 7 XPATH //*[@id=\"timeline\"]/div[3]/div/a[9] Index: 9\n",
      "scraping job links, page: 10\n",
      "i = 8 XPATH //*[@id=\"timeline\"]/div[3]/div/a[10] Index: 10\n",
      "scraping job links, page: 11\n",
      "i = 9 XPATH //*[@id=\"timeline\"]/div[3]/div/a[11] Index: 11\n",
      "scraping job links, page: 12\n"
     ]
    }
   ],
   "source": [
    "for i in range(1, iterations):\n",
    "\n",
    "    if i < 3:\n",
    "        index = i * 2 \n",
    "    else:\n",
    "        index = i + 2\n",
    "    print('i =', i, 'XPATH', '//*[@id=\"timeline\"]/div[3]/div/a[{}]'.format(index), 'Index:', index)\n",
    "    #driver.find_element(By.XPATH, '//*[@id=\"timeline\"]/div[3]/div/a[{}]'.format(index)).click()\n",
    "    page += 1\n",
    "    print('scraping job links, page:', page)\n",
    "    #links.append(job_scrape())"
   ]
  },
  {
   "cell_type": "code",
   "execution_count": 20,
   "metadata": {},
   "outputs": [],
   "source": [
    "#2\n",
    "//*[@id=\"timeline\"]/div[3]/div/a[2]\n",
    "#3\n",
    "//*[@id=\"timeline\"]/div[3]/div/a[4]\n",
    "#4\n",
    "//*[@id=\"timeline\"]/div[3]/div/a[5]\n",
    "#5\n",
    "//*[@id=\"timeline\"]/div[3]/div/a[6]\n",
    "#6\n",
    "//*[@id=\"timeline\"]/div[3]/div/a[7]\n",
    "#7\n",
    "//*[@id=\"timeline\"]/div[3]/div/a[7]\n",
    "#8\n",
    "//*[@id=\"timeline\"]/div[3]/div/a[7]\n",
    "\n"
   ]
  },
  {
   "cell_type": "code",
   "execution_count": null,
   "metadata": {},
   "outputs": [],
   "source": []
  }
 ],
 "metadata": {
  "kernelspec": {
   "display_name": "Python 3.9.12 ('base')",
   "language": "python",
   "name": "python3"
  },
  "language_info": {
   "codemirror_mode": {
    "name": "ipython",
    "version": 3
   },
   "file_extension": ".py",
   "mimetype": "text/x-python",
   "name": "python",
   "nbconvert_exporter": "python",
   "pygments_lexer": "ipython3",
   "version": "3.9.12"
  },
  "orig_nbformat": 4,
  "vscode": {
   "interpreter": {
    "hash": "acb118ada14cafd3b3da3ef21dccf95768441697cf5d12d40daa79f849726a2c"
   }
  }
 },
 "nbformat": 4,
 "nbformat_minor": 2
}
